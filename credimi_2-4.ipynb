{
 "cells": [
  {
   "cell_type": "markdown",
   "metadata": {},
   "source": [
    "### Import Data"
   ]
  },
  {
   "cell_type": "code",
   "execution_count": 1,
   "metadata": {},
   "outputs": [],
   "source": [
    "import pandas as pd\n",
    "import matplotlib.pyplot as plt\n",
    "import numpy as np\n",
    "import seaborn as sns"
   ]
  },
  {
   "cell_type": "code",
   "execution_count": 2,
   "metadata": {},
   "outputs": [],
   "source": [
    "train = pd.read_csv('/Users/andrewcosta/Desktop/Milan/Credimi/Data/data-set/train.csv', sep='|')\n",
    "test = pd.read_csv('/Users/andrewcosta/Desktop/Milan/Credimi/Data/data-set/test.csv', sep='|')"
   ]
  },
  {
   "cell_type": "markdown",
   "metadata": {},
   "source": [
    "### Data Exploration"
   ]
  },
  {
   "cell_type": "code",
   "execution_count": 3,
   "metadata": {
    "scrolled": true
   },
   "outputs": [
    {
     "data": {
      "text/html": [
       "<div>\n",
       "<style scoped>\n",
       "    .dataframe tbody tr th:only-of-type {\n",
       "        vertical-align: middle;\n",
       "    }\n",
       "\n",
       "    .dataframe tbody tr th {\n",
       "        vertical-align: top;\n",
       "    }\n",
       "\n",
       "    .dataframe thead th {\n",
       "        text-align: right;\n",
       "    }\n",
       "</style>\n",
       "<table border=\"1\" class=\"dataframe\">\n",
       "  <thead>\n",
       "    <tr style=\"text-align: right;\">\n",
       "      <th></th>\n",
       "      <th>sfid</th>\n",
       "      <th>dt_rif</th>\n",
       "      <th>juridical_form</th>\n",
       "      <th>dossier_type</th>\n",
       "      <th>application_source</th>\n",
       "      <th>credimi_industry</th>\n",
       "      <th>region</th>\n",
       "      <th>zone</th>\n",
       "      <th>revenues</th>\n",
       "      <th>pfn_ebitda</th>\n",
       "      <th>...</th>\n",
       "      <th>slope_al_accordato_operativo_sistema</th>\n",
       "      <th>slope_al_utilizzo_sistema</th>\n",
       "      <th>slope_al_sconfino_sistema</th>\n",
       "      <th>slope_scad_accordato_operativo_sistema</th>\n",
       "      <th>slope_scad_utilizzo_sistema</th>\n",
       "      <th>slope_scad_sconfino_sistema</th>\n",
       "      <th>slope_rev_accordato_operativo_sistema</th>\n",
       "      <th>slope_rev_utilizzo_sistema</th>\n",
       "      <th>slope_rev_sconfino_sistema</th>\n",
       "      <th>gender</th>\n",
       "    </tr>\n",
       "  </thead>\n",
       "  <tbody>\n",
       "    <tr>\n",
       "      <th>0</th>\n",
       "      <td>a1Q2X00000XcAcwUAF</td>\n",
       "      <td>2020-02-06</td>\n",
       "      <td>SR</td>\n",
       "      <td>D</td>\n",
       "      <td>D</td>\n",
       "      <td>PUBLISHING</td>\n",
       "      <td>LOMBARDIA</td>\n",
       "      <td>N-W</td>\n",
       "      <td>1618.0</td>\n",
       "      <td>-2.7260</td>\n",
       "      <td>...</td>\n",
       "      <td>2.099893</td>\n",
       "      <td>1.192427</td>\n",
       "      <td>-12.091542</td>\n",
       "      <td>-13.987207</td>\n",
       "      <td>-5.126181</td>\n",
       "      <td>3.066458</td>\n",
       "      <td>10.090473</td>\n",
       "      <td>-8.318733</td>\n",
       "      <td>-15.517977</td>\n",
       "      <td>F</td>\n",
       "    </tr>\n",
       "    <tr>\n",
       "      <th>1</th>\n",
       "      <td>a1Q7R00000ZWGilUAH</td>\n",
       "      <td>2020-10-21</td>\n",
       "      <td>SR</td>\n",
       "      <td>F</td>\n",
       "      <td>D</td>\n",
       "      <td>DISTRIBUTION</td>\n",
       "      <td>VENETO</td>\n",
       "      <td>N-E</td>\n",
       "      <td>400.0</td>\n",
       "      <td>-0.9091</td>\n",
       "      <td>...</td>\n",
       "      <td>6.008899</td>\n",
       "      <td>11.914642</td>\n",
       "      <td>8.693902</td>\n",
       "      <td>-0.720071</td>\n",
       "      <td>-11.443282</td>\n",
       "      <td>-0.443012</td>\n",
       "      <td>20.210193</td>\n",
       "      <td>-4.209426</td>\n",
       "      <td>2.200767</td>\n",
       "      <td>M</td>\n",
       "    </tr>\n",
       "    <tr>\n",
       "      <th>2</th>\n",
       "      <td>a1Q2X00000XcXBUUA3</td>\n",
       "      <td>2020-03-06</td>\n",
       "      <td>SP</td>\n",
       "      <td>D</td>\n",
       "      <td>R</td>\n",
       "      <td>SERVICES</td>\n",
       "      <td>LOMBARDIA</td>\n",
       "      <td>N-W</td>\n",
       "      <td>9053.0</td>\n",
       "      <td>1.1540</td>\n",
       "      <td>...</td>\n",
       "      <td>13.280918</td>\n",
       "      <td>-13.487311</td>\n",
       "      <td>-11.603003</td>\n",
       "      <td>6.583607</td>\n",
       "      <td>-6.161804</td>\n",
       "      <td>15.845791</td>\n",
       "      <td>-12.474371</td>\n",
       "      <td>4.638267</td>\n",
       "      <td>8.879181</td>\n",
       "      <td>F</td>\n",
       "    </tr>\n",
       "    <tr>\n",
       "      <th>3</th>\n",
       "      <td>a1Q7R00000a3GGvUAM</td>\n",
       "      <td>2021-07-13</td>\n",
       "      <td>SR</td>\n",
       "      <td>F</td>\n",
       "      <td>R</td>\n",
       "      <td>SERVICES</td>\n",
       "      <td>PIEMONTE</td>\n",
       "      <td>N-W</td>\n",
       "      <td>1759.0</td>\n",
       "      <td>22.1000</td>\n",
       "      <td>...</td>\n",
       "      <td>5.809308</td>\n",
       "      <td>-6.131548</td>\n",
       "      <td>2.722105</td>\n",
       "      <td>8.745116</td>\n",
       "      <td>-3.302940</td>\n",
       "      <td>14.459201</td>\n",
       "      <td>2.894860</td>\n",
       "      <td>-13.585654</td>\n",
       "      <td>-3.861922</td>\n",
       "      <td>F</td>\n",
       "    </tr>\n",
       "    <tr>\n",
       "      <th>4</th>\n",
       "      <td>a1Q7R00000ZWWU5UAP</td>\n",
       "      <td>2021-02-24</td>\n",
       "      <td>AS</td>\n",
       "      <td>F</td>\n",
       "      <td>R</td>\n",
       "      <td>SERVICES</td>\n",
       "      <td>LOMBARDIA</td>\n",
       "      <td>N-W</td>\n",
       "      <td>NaN</td>\n",
       "      <td>NaN</td>\n",
       "      <td>...</td>\n",
       "      <td>-13.146411</td>\n",
       "      <td>8.421855</td>\n",
       "      <td>2.112119</td>\n",
       "      <td>-1.209326</td>\n",
       "      <td>5.145283</td>\n",
       "      <td>7.103512</td>\n",
       "      <td>4.168852</td>\n",
       "      <td>-5.934604</td>\n",
       "      <td>2.014968</td>\n",
       "      <td>M</td>\n",
       "    </tr>\n",
       "  </tbody>\n",
       "</table>\n",
       "<p>5 rows × 30 columns</p>\n",
       "</div>"
      ],
      "text/plain": [
       "                 sfid      dt_rif juridical_form dossier_type  \\\n",
       "0  a1Q2X00000XcAcwUAF  2020-02-06             SR            D   \n",
       "1  a1Q7R00000ZWGilUAH  2020-10-21             SR            F   \n",
       "2  a1Q2X00000XcXBUUA3  2020-03-06             SP            D   \n",
       "3  a1Q7R00000a3GGvUAM  2021-07-13             SR            F   \n",
       "4  a1Q7R00000ZWWU5UAP  2021-02-24             AS            F   \n",
       "\n",
       "  application_source credimi_industry     region zone  revenues  pfn_ebitda  \\\n",
       "0                  D       PUBLISHING  LOMBARDIA  N-W    1618.0     -2.7260   \n",
       "1                  D     DISTRIBUTION     VENETO  N-E     400.0     -0.9091   \n",
       "2                  R         SERVICES  LOMBARDIA  N-W    9053.0      1.1540   \n",
       "3                  R         SERVICES   PIEMONTE  N-W    1759.0     22.1000   \n",
       "4                  R         SERVICES  LOMBARDIA  N-W       NaN         NaN   \n",
       "\n",
       "   ...  slope_al_accordato_operativo_sistema  slope_al_utilizzo_sistema  \\\n",
       "0  ...                              2.099893                   1.192427   \n",
       "1  ...                              6.008899                  11.914642   \n",
       "2  ...                             13.280918                 -13.487311   \n",
       "3  ...                              5.809308                  -6.131548   \n",
       "4  ...                            -13.146411                   8.421855   \n",
       "\n",
       "   slope_al_sconfino_sistema  slope_scad_accordato_operativo_sistema  \\\n",
       "0                 -12.091542                              -13.987207   \n",
       "1                   8.693902                               -0.720071   \n",
       "2                 -11.603003                                6.583607   \n",
       "3                   2.722105                                8.745116   \n",
       "4                   2.112119                               -1.209326   \n",
       "\n",
       "   slope_scad_utilizzo_sistema  slope_scad_sconfino_sistema  \\\n",
       "0                    -5.126181                     3.066458   \n",
       "1                   -11.443282                    -0.443012   \n",
       "2                    -6.161804                    15.845791   \n",
       "3                    -3.302940                    14.459201   \n",
       "4                     5.145283                     7.103512   \n",
       "\n",
       "   slope_rev_accordato_operativo_sistema  slope_rev_utilizzo_sistema  \\\n",
       "0                              10.090473                   -8.318733   \n",
       "1                              20.210193                   -4.209426   \n",
       "2                             -12.474371                    4.638267   \n",
       "3                               2.894860                  -13.585654   \n",
       "4                               4.168852                   -5.934604   \n",
       "\n",
       "   slope_rev_sconfino_sistema  gender  \n",
       "0                  -15.517977       F  \n",
       "1                    2.200767       M  \n",
       "2                    8.879181       F  \n",
       "3                   -3.861922       F  \n",
       "4                    2.014968       M  \n",
       "\n",
       "[5 rows x 30 columns]"
      ]
     },
     "execution_count": 3,
     "metadata": {},
     "output_type": "execute_result"
    }
   ],
   "source": [
    "test.head()"
   ]
  },
  {
   "cell_type": "code",
   "execution_count": 4,
   "metadata": {},
   "outputs": [
    {
     "data": {
      "text/plain": [
       "((7520, 31), (1880, 30))"
      ]
     },
     "execution_count": 4,
     "metadata": {},
     "output_type": "execute_result"
    }
   ],
   "source": [
    "train.shape, test.shape"
   ]
  },
  {
   "cell_type": "code",
   "execution_count": 5,
   "metadata": {},
   "outputs": [
    {
     "data": {
      "text/html": [
       "<div>\n",
       "<style scoped>\n",
       "    .dataframe tbody tr th:only-of-type {\n",
       "        vertical-align: middle;\n",
       "    }\n",
       "\n",
       "    .dataframe tbody tr th {\n",
       "        vertical-align: top;\n",
       "    }\n",
       "\n",
       "    .dataframe thead th {\n",
       "        text-align: right;\n",
       "    }\n",
       "</style>\n",
       "<table border=\"1\" class=\"dataframe\">\n",
       "  <thead>\n",
       "    <tr style=\"text-align: right;\">\n",
       "      <th></th>\n",
       "      <th>sfid</th>\n",
       "      <th>dt_rif</th>\n",
       "      <th>juridical_form</th>\n",
       "      <th>dossier_type</th>\n",
       "      <th>application_source</th>\n",
       "      <th>credimi_industry</th>\n",
       "      <th>region</th>\n",
       "      <th>zone</th>\n",
       "      <th>revenues</th>\n",
       "      <th>pfn_ebitda</th>\n",
       "      <th>...</th>\n",
       "      <th>slope_al_accordato_operativo_sistema</th>\n",
       "      <th>slope_al_utilizzo_sistema</th>\n",
       "      <th>slope_al_sconfino_sistema</th>\n",
       "      <th>slope_scad_accordato_operativo_sistema</th>\n",
       "      <th>slope_scad_utilizzo_sistema</th>\n",
       "      <th>slope_scad_sconfino_sistema</th>\n",
       "      <th>slope_rev_accordato_operativo_sistema</th>\n",
       "      <th>slope_rev_utilizzo_sistema</th>\n",
       "      <th>slope_rev_sconfino_sistema</th>\n",
       "      <th>gender</th>\n",
       "    </tr>\n",
       "  </thead>\n",
       "  <tbody>\n",
       "    <tr>\n",
       "      <th>0</th>\n",
       "      <td>a1Q7R00000eiXcbUAE</td>\n",
       "      <td>2021-10-07</td>\n",
       "      <td>SN</td>\n",
       "      <td>F</td>\n",
       "      <td>D</td>\n",
       "      <td>FOOD_AND_BEVERAGES</td>\n",
       "      <td>LIGURIA</td>\n",
       "      <td>N-W</td>\n",
       "      <td>NaN</td>\n",
       "      <td>NaN</td>\n",
       "      <td>...</td>\n",
       "      <td>-0.427516</td>\n",
       "      <td>1.155419</td>\n",
       "      <td>0.000000</td>\n",
       "      <td>0.087516</td>\n",
       "      <td>-0.340000</td>\n",
       "      <td>0.000000</td>\n",
       "      <td>0.000000</td>\n",
       "      <td>-0.006677</td>\n",
       "      <td>0.508290</td>\n",
       "      <td>M</td>\n",
       "    </tr>\n",
       "    <tr>\n",
       "      <th>1</th>\n",
       "      <td>a1Q2X00000ZARoVUAX</td>\n",
       "      <td>2020-03-24</td>\n",
       "      <td>RS</td>\n",
       "      <td>S</td>\n",
       "      <td>D</td>\n",
       "      <td>SERVICES</td>\n",
       "      <td>LAZIO</td>\n",
       "      <td>C</td>\n",
       "      <td>132.0</td>\n",
       "      <td>-1.6670</td>\n",
       "      <td>...</td>\n",
       "      <td>-25.381809</td>\n",
       "      <td>7.030049</td>\n",
       "      <td>-22.233850</td>\n",
       "      <td>-5.869132</td>\n",
       "      <td>3.402050</td>\n",
       "      <td>3.075468</td>\n",
       "      <td>21.674122</td>\n",
       "      <td>-10.247544</td>\n",
       "      <td>-3.023080</td>\n",
       "      <td>M</td>\n",
       "    </tr>\n",
       "    <tr>\n",
       "      <th>2</th>\n",
       "      <td>a1Q7R00000ZWIfjUAH</td>\n",
       "      <td>2020-11-05</td>\n",
       "      <td>SR</td>\n",
       "      <td>F</td>\n",
       "      <td>D</td>\n",
       "      <td>CONSTRUCTION</td>\n",
       "      <td>LAZIO</td>\n",
       "      <td>C</td>\n",
       "      <td>NaN</td>\n",
       "      <td>NaN</td>\n",
       "      <td>...</td>\n",
       "      <td>1.523189</td>\n",
       "      <td>-15.882350</td>\n",
       "      <td>12.401150</td>\n",
       "      <td>11.530694</td>\n",
       "      <td>6.835563</td>\n",
       "      <td>4.499724</td>\n",
       "      <td>19.697716</td>\n",
       "      <td>2.123602</td>\n",
       "      <td>-15.979714</td>\n",
       "      <td>F</td>\n",
       "    </tr>\n",
       "    <tr>\n",
       "      <th>3</th>\n",
       "      <td>a1Q2X00000ZEZZlUAP</td>\n",
       "      <td>2020-05-18</td>\n",
       "      <td>SR</td>\n",
       "      <td>F</td>\n",
       "      <td>D</td>\n",
       "      <td>MECHANICS</td>\n",
       "      <td>VENETO</td>\n",
       "      <td>N-E</td>\n",
       "      <td>3913.0</td>\n",
       "      <td>0.4693</td>\n",
       "      <td>...</td>\n",
       "      <td>5.506611</td>\n",
       "      <td>1.736408</td>\n",
       "      <td>-2.902523</td>\n",
       "      <td>-2.798806</td>\n",
       "      <td>-6.996783</td>\n",
       "      <td>5.972703</td>\n",
       "      <td>14.811891</td>\n",
       "      <td>13.726678</td>\n",
       "      <td>-6.910094</td>\n",
       "      <td>M</td>\n",
       "    </tr>\n",
       "    <tr>\n",
       "      <th>4</th>\n",
       "      <td>a1Q7R00000eiTipUAE</td>\n",
       "      <td>2021-09-24</td>\n",
       "      <td>SR</td>\n",
       "      <td>F</td>\n",
       "      <td>D</td>\n",
       "      <td>AGRICOLTURE</td>\n",
       "      <td>LOMBARDIA</td>\n",
       "      <td>N-W</td>\n",
       "      <td>1066.0</td>\n",
       "      <td>1.5030</td>\n",
       "      <td>...</td>\n",
       "      <td>13.376804</td>\n",
       "      <td>18.034658</td>\n",
       "      <td>1.379611</td>\n",
       "      <td>-1.782299</td>\n",
       "      <td>-16.781079</td>\n",
       "      <td>6.831352</td>\n",
       "      <td>-1.187466</td>\n",
       "      <td>10.233442</td>\n",
       "      <td>4.382520</td>\n",
       "      <td>M</td>\n",
       "    </tr>\n",
       "  </tbody>\n",
       "</table>\n",
       "<p>5 rows × 31 columns</p>\n",
       "</div>"
      ],
      "text/plain": [
       "                 sfid      dt_rif juridical_form dossier_type  \\\n",
       "0  a1Q7R00000eiXcbUAE  2021-10-07             SN            F   \n",
       "1  a1Q2X00000ZARoVUAX  2020-03-24             RS            S   \n",
       "2  a1Q7R00000ZWIfjUAH  2020-11-05             SR            F   \n",
       "3  a1Q2X00000ZEZZlUAP  2020-05-18             SR            F   \n",
       "4  a1Q7R00000eiTipUAE  2021-09-24             SR            F   \n",
       "\n",
       "  application_source    credimi_industry     region zone  revenues  \\\n",
       "0                  D  FOOD_AND_BEVERAGES    LIGURIA  N-W       NaN   \n",
       "1                  D            SERVICES      LAZIO    C     132.0   \n",
       "2                  D        CONSTRUCTION      LAZIO    C       NaN   \n",
       "3                  D           MECHANICS     VENETO  N-E    3913.0   \n",
       "4                  D         AGRICOLTURE  LOMBARDIA  N-W    1066.0   \n",
       "\n",
       "   pfn_ebitda  ...  slope_al_accordato_operativo_sistema  \\\n",
       "0         NaN  ...                             -0.427516   \n",
       "1     -1.6670  ...                            -25.381809   \n",
       "2         NaN  ...                              1.523189   \n",
       "3      0.4693  ...                              5.506611   \n",
       "4      1.5030  ...                             13.376804   \n",
       "\n",
       "   slope_al_utilizzo_sistema  slope_al_sconfino_sistema  \\\n",
       "0                   1.155419                   0.000000   \n",
       "1                   7.030049                 -22.233850   \n",
       "2                 -15.882350                  12.401150   \n",
       "3                   1.736408                  -2.902523   \n",
       "4                  18.034658                   1.379611   \n",
       "\n",
       "   slope_scad_accordato_operativo_sistema  slope_scad_utilizzo_sistema  \\\n",
       "0                                0.087516                    -0.340000   \n",
       "1                               -5.869132                     3.402050   \n",
       "2                               11.530694                     6.835563   \n",
       "3                               -2.798806                    -6.996783   \n",
       "4                               -1.782299                   -16.781079   \n",
       "\n",
       "   slope_scad_sconfino_sistema  slope_rev_accordato_operativo_sistema  \\\n",
       "0                     0.000000                               0.000000   \n",
       "1                     3.075468                              21.674122   \n",
       "2                     4.499724                              19.697716   \n",
       "3                     5.972703                              14.811891   \n",
       "4                     6.831352                              -1.187466   \n",
       "\n",
       "   slope_rev_utilizzo_sistema  slope_rev_sconfino_sistema  gender  \n",
       "0                   -0.006677                    0.508290       M  \n",
       "1                  -10.247544                   -3.023080       M  \n",
       "2                    2.123602                  -15.979714       F  \n",
       "3                   13.726678                   -6.910094       M  \n",
       "4                   10.233442                    4.382520       M  \n",
       "\n",
       "[5 rows x 31 columns]"
      ]
     },
     "execution_count": 5,
     "metadata": {},
     "output_type": "execute_result"
    }
   ],
   "source": [
    "train.head()"
   ]
  },
  {
   "cell_type": "code",
   "execution_count": 6,
   "metadata": {
    "scrolled": true
   },
   "outputs": [
    {
     "name": "stdout",
     "output_type": "stream",
     "text": [
      "<class 'pandas.core.frame.DataFrame'>\n",
      "RangeIndex: 7520 entries, 0 to 7519\n",
      "Data columns (total 31 columns):\n",
      " #   Column                                  Non-Null Count  Dtype  \n",
      "---  ------                                  --------------  -----  \n",
      " 0   sfid                                    7520 non-null   object \n",
      " 1   dt_rif                                  7520 non-null   object \n",
      " 2   juridical_form                          7520 non-null   object \n",
      " 3   dossier_type                            7520 non-null   object \n",
      " 4   application_source                      7520 non-null   object \n",
      " 5   credimi_industry                        7512 non-null   object \n",
      " 6   region                                  7520 non-null   object \n",
      " 7   zone                                    7520 non-null   object \n",
      " 8   revenues                                4942 non-null   float64\n",
      " 9   pfn_ebitda                              4938 non-null   float64\n",
      " 10  pn                                      4942 non-null   float64\n",
      " 11  ebitda                                  4942 non-null   float64\n",
      " 12  target                                  7520 non-null   float64\n",
      " 13  score_accounting                        7512 non-null   float64\n",
      " 14  score_identity                          7512 non-null   float64\n",
      " 15  score_trend                             7512 non-null   float64\n",
      " 16  slope_ebit                              7520 non-null   float64\n",
      " 17  slope_fondi                             7520 non-null   float64\n",
      " 18  slope_ebitda                            7520 non-null   float64\n",
      " 19  slope_fatturato                         7520 non-null   float64\n",
      " 20  slope_liquidita                         7520 non-null   float64\n",
      " 21  slope_al_accordato_operativo_sistema    7520 non-null   float64\n",
      " 22  slope_al_utilizzo_sistema               7520 non-null   float64\n",
      " 23  slope_al_sconfino_sistema               7520 non-null   float64\n",
      " 24  slope_scad_accordato_operativo_sistema  7520 non-null   float64\n",
      " 25  slope_scad_utilizzo_sistema             7520 non-null   float64\n",
      " 26  slope_scad_sconfino_sistema             7520 non-null   float64\n",
      " 27  slope_rev_accordato_operativo_sistema   7520 non-null   float64\n",
      " 28  slope_rev_utilizzo_sistema              7520 non-null   float64\n",
      " 29  slope_rev_sconfino_sistema              7520 non-null   float64\n",
      " 30  gender                                  7520 non-null   object \n",
      "dtypes: float64(22), object(9)\n",
      "memory usage: 1.8+ MB\n"
     ]
    }
   ],
   "source": [
    "train.info()"
   ]
  },
  {
   "cell_type": "code",
   "execution_count": 7,
   "metadata": {},
   "outputs": [],
   "source": [
    "train_num = train[['revenues', 'pfn_ebitda', 'pn', 'ebitda', 'score_accounting', 'score_identity', 'score_trend', 'slope_ebit', 'slope_fondi', 'slope_ebitda', 'slope_fatturato', 'slope_liquidita', 'slope_al_accordato_operativo_sistema', 'slope_al_utilizzo_sistema', 'slope_al_sconfino_sistema','slope_scad_accordato_operativo_sistema', 'slope_scad_utilizzo_sistema', 'slope_scad_sconfino_sistema', 'slope_rev_accordato_operativo_sistema', 'slope_rev_utilizzo_sistema', 'slope_rev_sconfino_sistema']]"
   ]
  },
  {
   "cell_type": "code",
   "execution_count": 8,
   "metadata": {},
   "outputs": [
    {
     "data": {
      "text/html": [
       "<div>\n",
       "<style scoped>\n",
       "    .dataframe tbody tr th:only-of-type {\n",
       "        vertical-align: middle;\n",
       "    }\n",
       "\n",
       "    .dataframe tbody tr th {\n",
       "        vertical-align: top;\n",
       "    }\n",
       "\n",
       "    .dataframe thead th {\n",
       "        text-align: right;\n",
       "    }\n",
       "</style>\n",
       "<table border=\"1\" class=\"dataframe\">\n",
       "  <thead>\n",
       "    <tr style=\"text-align: right;\">\n",
       "      <th></th>\n",
       "      <th>revenues</th>\n",
       "      <th>pfn_ebitda</th>\n",
       "      <th>pn</th>\n",
       "      <th>ebitda</th>\n",
       "      <th>score_accounting</th>\n",
       "      <th>score_identity</th>\n",
       "      <th>score_trend</th>\n",
       "      <th>slope_ebit</th>\n",
       "      <th>slope_fondi</th>\n",
       "      <th>slope_ebitda</th>\n",
       "      <th>...</th>\n",
       "      <th>slope_liquidita</th>\n",
       "      <th>slope_al_accordato_operativo_sistema</th>\n",
       "      <th>slope_al_utilizzo_sistema</th>\n",
       "      <th>slope_al_sconfino_sistema</th>\n",
       "      <th>slope_scad_accordato_operativo_sistema</th>\n",
       "      <th>slope_scad_utilizzo_sistema</th>\n",
       "      <th>slope_scad_sconfino_sistema</th>\n",
       "      <th>slope_rev_accordato_operativo_sistema</th>\n",
       "      <th>slope_rev_utilizzo_sistema</th>\n",
       "      <th>slope_rev_sconfino_sistema</th>\n",
       "    </tr>\n",
       "  </thead>\n",
       "  <tbody>\n",
       "    <tr>\n",
       "      <th>0</th>\n",
       "      <td>NaN</td>\n",
       "      <td>NaN</td>\n",
       "      <td>NaN</td>\n",
       "      <td>NaN</td>\n",
       "      <td>-0.161538</td>\n",
       "      <td>-0.590619</td>\n",
       "      <td>-0.8</td>\n",
       "      <td>20.612502</td>\n",
       "      <td>0.715983</td>\n",
       "      <td>-1.355261</td>\n",
       "      <td>...</td>\n",
       "      <td>15.753695</td>\n",
       "      <td>-0.427516</td>\n",
       "      <td>1.155419</td>\n",
       "      <td>0.000000</td>\n",
       "      <td>0.087516</td>\n",
       "      <td>-0.340000</td>\n",
       "      <td>0.000000</td>\n",
       "      <td>0.000000</td>\n",
       "      <td>-0.006677</td>\n",
       "      <td>0.508290</td>\n",
       "    </tr>\n",
       "    <tr>\n",
       "      <th>1</th>\n",
       "      <td>132.0</td>\n",
       "      <td>-1.6670</td>\n",
       "      <td>54.0</td>\n",
       "      <td>63.0</td>\n",
       "      <td>-2.746130</td>\n",
       "      <td>-0.430867</td>\n",
       "      <td>0.1</td>\n",
       "      <td>6.189476</td>\n",
       "      <td>-16.101876</td>\n",
       "      <td>4.337416</td>\n",
       "      <td>...</td>\n",
       "      <td>13.998235</td>\n",
       "      <td>-25.381809</td>\n",
       "      <td>7.030049</td>\n",
       "      <td>-22.233850</td>\n",
       "      <td>-5.869132</td>\n",
       "      <td>3.402050</td>\n",
       "      <td>3.075468</td>\n",
       "      <td>21.674122</td>\n",
       "      <td>-10.247544</td>\n",
       "      <td>-3.023080</td>\n",
       "    </tr>\n",
       "    <tr>\n",
       "      <th>2</th>\n",
       "      <td>NaN</td>\n",
       "      <td>NaN</td>\n",
       "      <td>NaN</td>\n",
       "      <td>NaN</td>\n",
       "      <td>-0.161538</td>\n",
       "      <td>-0.789303</td>\n",
       "      <td>0.1</td>\n",
       "      <td>24.669114</td>\n",
       "      <td>-5.456726</td>\n",
       "      <td>18.741142</td>\n",
       "      <td>...</td>\n",
       "      <td>22.948975</td>\n",
       "      <td>1.523189</td>\n",
       "      <td>-15.882350</td>\n",
       "      <td>12.401150</td>\n",
       "      <td>11.530694</td>\n",
       "      <td>6.835563</td>\n",
       "      <td>4.499724</td>\n",
       "      <td>19.697716</td>\n",
       "      <td>2.123602</td>\n",
       "      <td>-15.979714</td>\n",
       "    </tr>\n",
       "    <tr>\n",
       "      <th>3</th>\n",
       "      <td>3913.0</td>\n",
       "      <td>0.4693</td>\n",
       "      <td>297.0</td>\n",
       "      <td>179.0</td>\n",
       "      <td>-1.779492</td>\n",
       "      <td>-2.654802</td>\n",
       "      <td>-3.0</td>\n",
       "      <td>53.500000</td>\n",
       "      <td>0.000000</td>\n",
       "      <td>53.500000</td>\n",
       "      <td>...</td>\n",
       "      <td>-1.000000</td>\n",
       "      <td>5.506611</td>\n",
       "      <td>1.736408</td>\n",
       "      <td>-2.902523</td>\n",
       "      <td>-2.798806</td>\n",
       "      <td>-6.996783</td>\n",
       "      <td>5.972703</td>\n",
       "      <td>14.811891</td>\n",
       "      <td>13.726678</td>\n",
       "      <td>-6.910094</td>\n",
       "    </tr>\n",
       "    <tr>\n",
       "      <th>4</th>\n",
       "      <td>1066.0</td>\n",
       "      <td>1.5030</td>\n",
       "      <td>478.0</td>\n",
       "      <td>181.0</td>\n",
       "      <td>-1.133708</td>\n",
       "      <td>-2.655170</td>\n",
       "      <td>0.3</td>\n",
       "      <td>-2.027899</td>\n",
       "      <td>-3.447049</td>\n",
       "      <td>-2.012893</td>\n",
       "      <td>...</td>\n",
       "      <td>22.998430</td>\n",
       "      <td>13.376804</td>\n",
       "      <td>18.034658</td>\n",
       "      <td>1.379611</td>\n",
       "      <td>-1.782299</td>\n",
       "      <td>-16.781079</td>\n",
       "      <td>6.831352</td>\n",
       "      <td>-1.187466</td>\n",
       "      <td>10.233442</td>\n",
       "      <td>4.382520</td>\n",
       "    </tr>\n",
       "  </tbody>\n",
       "</table>\n",
       "<p>5 rows × 21 columns</p>\n",
       "</div>"
      ],
      "text/plain": [
       "   revenues  pfn_ebitda     pn  ebitda  score_accounting  score_identity  \\\n",
       "0       NaN         NaN    NaN     NaN         -0.161538       -0.590619   \n",
       "1     132.0     -1.6670   54.0    63.0         -2.746130       -0.430867   \n",
       "2       NaN         NaN    NaN     NaN         -0.161538       -0.789303   \n",
       "3    3913.0      0.4693  297.0   179.0         -1.779492       -2.654802   \n",
       "4    1066.0      1.5030  478.0   181.0         -1.133708       -2.655170   \n",
       "\n",
       "   score_trend  slope_ebit  slope_fondi  slope_ebitda  ...  slope_liquidita  \\\n",
       "0         -0.8   20.612502     0.715983     -1.355261  ...        15.753695   \n",
       "1          0.1    6.189476   -16.101876      4.337416  ...        13.998235   \n",
       "2          0.1   24.669114    -5.456726     18.741142  ...        22.948975   \n",
       "3         -3.0   53.500000     0.000000     53.500000  ...        -1.000000   \n",
       "4          0.3   -2.027899    -3.447049     -2.012893  ...        22.998430   \n",
       "\n",
       "   slope_al_accordato_operativo_sistema  slope_al_utilizzo_sistema  \\\n",
       "0                             -0.427516                   1.155419   \n",
       "1                            -25.381809                   7.030049   \n",
       "2                              1.523189                 -15.882350   \n",
       "3                              5.506611                   1.736408   \n",
       "4                             13.376804                  18.034658   \n",
       "\n",
       "   slope_al_sconfino_sistema  slope_scad_accordato_operativo_sistema  \\\n",
       "0                   0.000000                                0.087516   \n",
       "1                 -22.233850                               -5.869132   \n",
       "2                  12.401150                               11.530694   \n",
       "3                  -2.902523                               -2.798806   \n",
       "4                   1.379611                               -1.782299   \n",
       "\n",
       "   slope_scad_utilizzo_sistema  slope_scad_sconfino_sistema  \\\n",
       "0                    -0.340000                     0.000000   \n",
       "1                     3.402050                     3.075468   \n",
       "2                     6.835563                     4.499724   \n",
       "3                    -6.996783                     5.972703   \n",
       "4                   -16.781079                     6.831352   \n",
       "\n",
       "   slope_rev_accordato_operativo_sistema  slope_rev_utilizzo_sistema  \\\n",
       "0                               0.000000                   -0.006677   \n",
       "1                              21.674122                  -10.247544   \n",
       "2                              19.697716                    2.123602   \n",
       "3                              14.811891                   13.726678   \n",
       "4                              -1.187466                   10.233442   \n",
       "\n",
       "   slope_rev_sconfino_sistema  \n",
       "0                    0.508290  \n",
       "1                   -3.023080  \n",
       "2                  -15.979714  \n",
       "3                   -6.910094  \n",
       "4                    4.382520  \n",
       "\n",
       "[5 rows x 21 columns]"
      ]
     },
     "execution_count": 8,
     "metadata": {},
     "output_type": "execute_result"
    }
   ],
   "source": [
    "train_num.head()"
   ]
  },
  {
   "cell_type": "code",
   "execution_count": 9,
   "metadata": {},
   "outputs": [
    {
     "data": {
      "image/png": "[encoded data removed]",
      "text/plain": [
       "<Figure size 432x288 with 1 Axes>"
      ]
     },
     "metadata": {
      "needs_background": "light"
     },
     "output_type": "display_data"
    },
    {
     "data": {
      "image/png": "[encoded data removed]",
      "text/plain": [
       "<Figure size 432x288 with 1 Axes>"
      ]
     },
     "metadata": {
      "needs_background": "light"
     },
     "output_type": "display_data"
    },
    {
     "data": {
      "image/png": "[encoded data removed]",
      "text/plain": [
       "<Figure size 432x288 with 1 Axes>"
      ]
     },
     "metadata": {
      "needs_background": "light"
     },
     "output_type": "display_data"
    },
    {
     "data": {
      "image/png": "[encoded data removed]",
      "text/plain": [
       "<Figure size 432x288 with 1 Axes>"
      ]
     },
     "metadata": {
      "needs_background": "light"
     },
     "output_type": "display_data"
    },
    {
     "data": {
      "image/png": "[encoded data removed]",
      "text/plain": [
       "<Figure size 432x288 with 1 Axes>"
      ]
     },
     "metadata": {
      "needs_background": "light"
     },
     "output_type": "display_data"
    },
    {
     "data": {
      "image/png": "[encoded data removed]",
      "text/plain": [
       "<Figure size 432x288 with 1 Axes>"
      ]
     },
     "metadata": {
      "needs_background": "light"
     },
     "output_type": "display_data"
    },
    {
     "data": {
      "image/png": "[encoded data removed]",
      "text/plain": [
       "<Figure size 432x288 with 1 Axes>"
      ]
     },
     "metadata": {
      "needs_background": "light"
     },
     "output_type": "display_data"
    },
    {
     "data": {
      "image/png": "[encoded data removed]",
      "text/plain": [
       "<Figure size 432x288 with 1 Axes>"
      ]
     },
     "metadata": {
      "needs_background": "light"
     },
     "output_type": "display_data"
    },
    {
     "data": {
      "image/png": "[encoded data removed]",
      "text/plain": [
       "<Figure size 432x288 with 1 Axes>"
      ]
     },
     "metadata": {
      "needs_background": "light"
     },
     "output_type": "display_data"
    },
    {
     "data": {
      "image/png": "[encoded data removed]",
      "text/plain": [
       "<Figure size 432x288 with 1 Axes>"
      ]
     },
     "metadata": {
      "needs_background": "light"
     },
     "output_type": "display_data"
    },
    {
     "data": {
      "image/png": "[encoded data removed]",
      "text/plain": [
       "<Figure size 432x288 with 1 Axes>"
      ]
     },
     "metadata": {
      "needs_background": "light"
     },
     "output_type": "display_data"
    },
    {
     "data": {
      "image/png": "[encoded data removed]",
      "text/plain": [
       "<Figure size 432x288 with 1 Axes>"
      ]
     },
     "metadata": {
      "needs_background": "light"
     },
     "output_type": "display_data"
    },
    {
     "data": {
      "image/png": "[encoded data removed]",
      "text/plain": [
       "<Figure size 432x288 with 1 Axes>"
      ]
     },
     "metadata": {
      "needs_background": "light"
     },
     "output_type": "display_data"
    },
    {
     "data": {
      "image/png": "[encoded data removed]",
      "text/plain": [
       "<Figure size 432x288 with 1 Axes>"
      ]
     },
     "metadata": {
      "needs_background": "light"
     },
     "output_type": "display_data"
    },
    {
     "data": {
      "image/png": "[encoded data removed]",
      "text/plain": [
       "<Figure size 432x288 with 1 Axes>"
      ]
     },
     "metadata": {
      "needs_background": "light"
     },
     "output_type": "display_data"
    },
    {
     "data": {
      "image/png": "[encoded data removed]",
      "text/plain": [
       "<Figure size 432x288 with 1 Axes>"
      ]
     },
     "metadata": {
      "needs_background": "light"
     },
     "output_type": "display_data"
    },
    {
     "data": {
      "image/png": "[encoded data removed]",
      "text/plain": [
       "<Figure size 432x288 with 1 Axes>"
      ]
     },
     "metadata": {
      "needs_background": "light"
     },
     "output_type": "display_data"
    },
    {
     "data": {
      "image/png": "[encoded data removed]",
      "text/plain": [
       "<Figure size 432x288 with 1 Axes>"
      ]
     },
     "metadata": {
      "needs_background": "light"
     },
     "output_type": "display_data"
    },
    {
     "data": {
      "image/png": "[encoded data removed]",
      "text/plain": [
       "<Figure size 432x288 with 1 Axes>"
      ]
     },
     "metadata": {
      "needs_background": "light"
     },
     "output_type": "display_data"
    },
    {
     "data": {
      "image/png": "[encoded data removed]",
      "text/plain": [
       "<Figure size 432x288 with 1 Axes>"
      ]
     },
     "metadata": {
      "needs_background": "light"
     },
     "output_type": "display_data"
    },
    {
     "data": {
      "image/png": "[encoded data removed]",
      "text/plain": [
       "<Figure size 432x288 with 1 Axes>"
      ]
     },
     "metadata": {
      "needs_background": "light"
     },
     "output_type": "display_data"
    }
   ],
   "source": [
    "for i in train_num.columns:\n",
    "    plt.hist(train_num[i])\n",
    "    plt.title(i)\n",
    "    plt.show()"
   ]
  },
  {
   "cell_type": "code",
   "execution_count": 10,
   "metadata": {
    "scrolled": true
   },
   "outputs": [
    {
     "data": {
      "text/plain": [
       "sfid                                         0\n",
       "dt_rif                                       0\n",
       "juridical_form                               0\n",
       "dossier_type                                 0\n",
       "application_source                           0\n",
       "credimi_industry                             8\n",
       "region                                       0\n",
       "zone                                         0\n",
       "revenues                                  2578\n",
       "pfn_ebitda                                2582\n",
       "pn                                        2578\n",
       "ebitda                                    2578\n",
       "target                                       0\n",
       "score_accounting                             8\n",
       "score_identity                               8\n",
       "score_trend                                  8\n",
       "slope_ebit                                   0\n",
       "slope_fondi                                  0\n",
       "slope_ebitda                                 0\n",
       "slope_fatturato                              0\n",
       "slope_liquidita                              0\n",
       "slope_al_accordato_operativo_sistema         0\n",
       "slope_al_utilizzo_sistema                    0\n",
       "slope_al_sconfino_sistema                    0\n",
       "slope_scad_accordato_operativo_sistema       0\n",
       "slope_scad_utilizzo_sistema                  0\n",
       "slope_scad_sconfino_sistema                  0\n",
       "slope_rev_accordato_operativo_sistema        0\n",
       "slope_rev_utilizzo_sistema                   0\n",
       "slope_rev_sconfino_sistema                   0\n",
       "gender                                       0\n",
       "dtype: int64"
      ]
     },
     "execution_count": 10,
     "metadata": {},
     "output_type": "execute_result"
    }
   ],
   "source": [
    "train.isna().sum()"
   ]
  },
  {
   "cell_type": "markdown",
   "metadata": {},
   "source": [
    "### Data Cleaning"
   ]
  },
  {
   "cell_type": "code",
   "execution_count": 11,
   "metadata": {},
   "outputs": [],
   "source": [
    "train['score_accounting'] = train['score_accounting'].fillna(train['score_accounting'].mean())\n",
    "train['score_identity'] = train['score_identity'].fillna(train['score_identity'].mean())\n",
    "train['score_trend'] = train['score_trend'].fillna(train['score_trend'].mean())"
   ]
  },
  {
   "cell_type": "code",
   "execution_count": 12,
   "metadata": {},
   "outputs": [],
   "source": [
    "test['score_accounting'] = test['score_accounting'].fillna(test['score_accounting'].mean())\n",
    "test['score_identity'] = test['score_identity'].fillna(test['score_identity'].mean())\n",
    "test['score_trend'] = test['score_trend'].fillna(test['score_trend'].mean())"
   ]
  },
  {
   "cell_type": "code",
   "execution_count": 13,
   "metadata": {},
   "outputs": [
    {
     "data": {
      "text/plain": [
       "(1880, 30)"
      ]
     },
     "execution_count": 13,
     "metadata": {},
     "output_type": "execute_result"
    }
   ],
   "source": [
    "test.shape"
   ]
  },
  {
   "cell_type": "code",
   "execution_count": 14,
   "metadata": {},
   "outputs": [],
   "source": [
    "train['revenues'] = train['revenues'].fillna(train['revenues'].median())"
   ]
  },
  {
   "cell_type": "code",
   "execution_count": 15,
   "metadata": {},
   "outputs": [],
   "source": [
    "test['revenues'] = test['revenues'].fillna(test['revenues'].median())"
   ]
  },
  {
   "cell_type": "code",
   "execution_count": 16,
   "metadata": {},
   "outputs": [],
   "source": [
    "sfid = test['sfid']"
   ]
  },
  {
   "cell_type": "code",
   "execution_count": 17,
   "metadata": {},
   "outputs": [
    {
     "data": {
      "image/png": "[encoded data removed]",
      "text/plain": [
       "<Figure size 432x288 with 2 Axes>"
      ]
     },
     "metadata": {
      "needs_background": "light"
     },
     "output_type": "display_data"
    }
   ],
   "source": [
    "#print(train_num.corr())\n",
    "sns.heatmap(train_num.corr())\n",
    "plt.show()"
   ]
  },
  {
   "cell_type": "code",
   "execution_count": 18,
   "metadata": {},
   "outputs": [],
   "source": [
    "X = train.drop(['target', 'sfid'], axis=1)\n",
    "y = train.target"
   ]
  },
  {
   "cell_type": "code",
   "execution_count": 19,
   "metadata": {},
   "outputs": [
    {
     "data": {
      "text/plain": [
       "((7520, 29), (7520,))"
      ]
     },
     "execution_count": 19,
     "metadata": {},
     "output_type": "execute_result"
    }
   ],
   "source": [
    "X.shape, y.shape"
   ]
  },
  {
   "cell_type": "markdown",
   "metadata": {},
   "source": [
    "### Feature Pipeline"
   ]
  },
  {
   "cell_type": "code",
   "execution_count": 20,
   "metadata": {},
   "outputs": [],
   "source": [
    "from sklearn.impute import SimpleImputer\n",
    "from sklearn.pipeline import Pipeline\n",
    "from sklearn.preprocessing import OneHotEncoder"
   ]
  },
  {
   "cell_type": "code",
   "execution_count": 21,
   "metadata": {},
   "outputs": [],
   "source": [
    "# pipeline for categorical features\n",
    "categorical_pipeline = Pipeline(\n",
    "    steps=[\n",
    "        (\"impute\", SimpleImputer(strategy=\"most_frequent\")),\n",
    "        (\"oh-encode\", OneHotEncoder(handle_unknown=\"ignore\", sparse=False))]\n",
    ")"
   ]
  },
  {
   "cell_type": "code",
   "execution_count": 22,
   "metadata": {},
   "outputs": [],
   "source": [
    "from sklearn.preprocessing import StandardScaler"
   ]
  },
  {
   "cell_type": "code",
   "execution_count": 23,
   "metadata": {},
   "outputs": [],
   "source": [
    "# pipeline for numerical features\n",
    "numeric_pipeline = Pipeline(\n",
    "    steps=[(\"impute\", SimpleImputer(strategy=\"mean\")),\n",
    "    (\"scale\", StandardScaler())]\n",
    ")"
   ]
  },
  {
   "cell_type": "code",
   "execution_count": 24,
   "metadata": {},
   "outputs": [],
   "source": [
    "cat_cols = X.select_dtypes(exclude=\"number\").columns\n",
    "num_cols = X.select_dtypes(include=\"number\").columns"
   ]
  },
  {
   "cell_type": "code",
   "execution_count": 25,
   "metadata": {},
   "outputs": [],
   "source": [
    "from sklearn.compose import ColumnTransformer"
   ]
  },
  {
   "cell_type": "code",
   "execution_count": 26,
   "metadata": {},
   "outputs": [],
   "source": [
    "from sklearn.compose import ColumnTransformer\n",
    "\n",
    "full_processor = ColumnTransformer(\n",
    "    transformers=[\n",
    "        (\"numeric\", numeric_pipeline, num_cols),\n",
    "        (\"categorical\", categorical_pipeline, cat_cols),\n",
    "    ]\n",
    ")"
   ]
  },
  {
   "cell_type": "code",
   "execution_count": 27,
   "metadata": {},
   "outputs": [
    {
     "data": {
      "text/plain": [
       "(1880, 30)"
      ]
     },
     "execution_count": 27,
     "metadata": {},
     "output_type": "execute_result"
    }
   ],
   "source": [
    "test.shape"
   ]
  },
  {
   "cell_type": "markdown",
   "metadata": {},
   "source": [
    "### XGBoost Model "
   ]
  },
  {
   "cell_type": "markdown",
   "metadata": {},
   "source": [
    "Reasons for Model:\n",
    "I chose to use an XGBoost Classifier for this task for the following reasons:\n",
    "- It has a fast execution speed\n",
    "- Its flexibility"
   ]
  },
  {
   "cell_type": "code",
   "execution_count": 28,
   "metadata": {},
   "outputs": [
    {
     "name": "stderr",
     "output_type": "stream",
     "text": [
      "/Users/andrewcosta/opt/anaconda3/lib/python3.8/site-packages/xgboost/compat.py:31: FutureWarning: pandas.Int64Index is deprecated and will be removed from pandas in a future version. Use pandas.Index with the appropriate dtype instead.\n",
      "  from pandas import MultiIndex, Int64Index\n"
     ]
    }
   ],
   "source": [
    "import xgboost as xgb"
   ]
  },
  {
   "cell_type": "code",
   "execution_count": 29,
   "metadata": {},
   "outputs": [],
   "source": [
    "xgb_cl = xgb.XGBClassifier()"
   ]
  },
  {
   "cell_type": "code",
   "execution_count": 30,
   "metadata": {},
   "outputs": [
    {
     "data": {
      "text/plain": [
       "Index(['dt_rif', 'juridical_form', 'dossier_type', 'application_source',\n",
       "       'credimi_industry', 'region', 'zone', 'revenues', 'pfn_ebitda', 'pn',\n",
       "       'ebitda', 'score_accounting', 'score_identity', 'score_trend',\n",
       "       'slope_ebit', 'slope_fondi', 'slope_ebitda', 'slope_fatturato',\n",
       "       'slope_liquidita', 'slope_al_accordato_operativo_sistema',\n",
       "       'slope_al_utilizzo_sistema', 'slope_al_sconfino_sistema',\n",
       "       'slope_scad_accordato_operativo_sistema', 'slope_scad_utilizzo_sistema',\n",
       "       'slope_scad_sconfino_sistema', 'slope_rev_accordato_operativo_sistema',\n",
       "       'slope_rev_utilizzo_sistema', 'slope_rev_sconfino_sistema', 'gender'],\n",
       "      dtype='object')"
      ]
     },
     "execution_count": 30,
     "metadata": {},
     "output_type": "execute_result"
    }
   ],
   "source": [
    "X.columns"
   ]
  },
  {
   "cell_type": "code",
   "execution_count": 31,
   "metadata": {},
   "outputs": [],
   "source": [
    "X_processed = full_processor.fit_transform(X)\n",
    "y_processed = SimpleImputer(strategy = \"most_frequent\").fit_transform(y.values.reshape(-1,1))"
   ]
  },
  {
   "cell_type": "code",
   "execution_count": 32,
   "metadata": {},
   "outputs": [
    {
     "data": {
      "text/plain": [
       "array([[-0.23214905,  0.        ,  0.        , ...,  0.        ,\n",
       "         0.        ,  1.        ],\n",
       "       [-0.45129469, -0.28402043, -0.38930064, ...,  0.        ,\n",
       "         0.        ,  1.        ],\n",
       "       [-0.23214905,  0.        ,  0.        , ...,  0.        ,\n",
       "         1.        ,  0.        ],\n",
       "       ...,\n",
       "       [ 0.09571812,  0.23795471, -0.31507502, ...,  0.        ,\n",
       "         0.        ,  1.        ],\n",
       "       [-0.23214905,  0.        ,  0.        , ...,  0.        ,\n",
       "         0.        ,  1.        ],\n",
       "       [-0.23214905,  0.        ,  0.        , ...,  0.        ,\n",
       "         1.        ,  0.        ]])"
      ]
     },
     "execution_count": 32,
     "metadata": {},
     "output_type": "execute_result"
    }
   ],
   "source": [
    "X_processed"
   ]
  },
  {
   "cell_type": "code",
   "execution_count": 33,
   "metadata": {},
   "outputs": [],
   "source": [
    "from sklearn.model_selection import train_test_split"
   ]
  },
  {
   "cell_type": "code",
   "execution_count": 34,
   "metadata": {},
   "outputs": [],
   "source": [
    "X_train, X_test, y_train, y_test = train_test_split(X_processed, y_processed, test_size=0.2)"
   ]
  },
  {
   "cell_type": "markdown",
   "metadata": {},
   "source": [
    "### Hyperparameter 1 - base model"
   ]
  },
  {
   "cell_type": "code",
   "execution_count": 35,
   "metadata": {},
   "outputs": [
    {
     "name": "stderr",
     "output_type": "stream",
     "text": [
      "/Users/andrewcosta/opt/anaconda3/lib/python3.8/site-packages/xgboost/sklearn.py:888: UserWarning: The use of label encoder in XGBClassifier is deprecated and will be removed in a future release. To remove this warning, do the following: 1) Pass option use_label_encoder=False when constructing XGBClassifier object; and 2) Encode your labels (y) as integers starting with 0, i.e. 0, 1, 2, ..., [num_class - 1].\n",
      "  warnings.warn(label_encoder_deprecation_msg, UserWarning)\n",
      "/Users/andrewcosta/opt/anaconda3/lib/python3.8/site-packages/sklearn/utils/validation.py:63: DataConversionWarning: A column-vector y was passed when a 1d array was expected. Please change the shape of y to (n_samples, ), for example using ravel().\n",
      "  return f(*args, **kwargs)\n"
     ]
    },
    {
     "name": "stdout",
     "output_type": "stream",
     "text": [
      "[20:55:04] WARNING: /Users/travis/build/dmlc/xgboost/src/learner.cc:1061: Starting in XGBoost 1.3.0, the default evaluation metric used with the objective 'binary:logistic' was changed from 'error' to 'logloss'. Explicitly set eval_metric if you'd like to restore the old behavior.\n"
     ]
    },
    {
     "data": {
      "text/plain": [
       "XGBClassifier(base_score=0.5, booster='gbtree', colsample_bylevel=1,\n",
       "              colsample_bynode=1, colsample_bytree=1, gamma=0, gpu_id=-1,\n",
       "              importance_type='gain', interaction_constraints='',\n",
       "              learning_rate=0.300000012, max_delta_step=0, max_depth=6,\n",
       "              min_child_weight=1, missing=nan, monotone_constraints='()',\n",
       "              n_estimators=100, n_jobs=4, num_parallel_tree=1, random_state=0,\n",
       "              reg_alpha=0, reg_lambda=1, scale_pos_weight=1, subsample=1,\n",
       "              tree_method='exact', validate_parameters=1, verbosity=None)"
      ]
     },
     "execution_count": 35,
     "metadata": {},
     "output_type": "execute_result"
    }
   ],
   "source": [
    "# train model on the train set\n",
    "xgb_cl.fit(X_train, y_train)"
   ]
  },
  {
   "cell_type": "code",
   "execution_count": 36,
   "metadata": {},
   "outputs": [],
   "source": [
    "preds = xgb_cl.predict(X_test)"
   ]
  },
  {
   "cell_type": "code",
   "execution_count": 37,
   "metadata": {},
   "outputs": [
    {
     "data": {
      "text/plain": [
       "(1504,)"
      ]
     },
     "execution_count": 37,
     "metadata": {},
     "output_type": "execute_result"
    }
   ],
   "source": [
    "preds.shape"
   ]
  },
  {
   "cell_type": "code",
   "execution_count": 38,
   "metadata": {},
   "outputs": [],
   "source": [
    "from sklearn.metrics import accuracy_score, precision_score, recall_score,f1_score, roc_auc_score"
   ]
  },
  {
   "cell_type": "code",
   "execution_count": 39,
   "metadata": {},
   "outputs": [
    {
     "data": {
      "text/plain": [
       "(1880, 30)"
      ]
     },
     "execution_count": 39,
     "metadata": {},
     "output_type": "execute_result"
    }
   ],
   "source": [
    "test.shape"
   ]
  },
  {
   "cell_type": "code",
   "execution_count": 40,
   "metadata": {},
   "outputs": [
    {
     "data": {
      "text/plain": [
       "0.9195478723404256"
      ]
     },
     "execution_count": 40,
     "metadata": {},
     "output_type": "execute_result"
    }
   ],
   "source": [
    "#accuracy score\n",
    "accuracy_score(y_test, preds)"
   ]
  },
  {
   "cell_type": "code",
   "execution_count": 41,
   "metadata": {},
   "outputs": [
    {
     "data": {
      "text/plain": [
       "0.8193548387096774"
      ]
     },
     "execution_count": 41,
     "metadata": {},
     "output_type": "execute_result"
    }
   ],
   "source": [
    "# precision score\n",
    "precision_score(y_test, preds)"
   ]
  },
  {
   "cell_type": "code",
   "execution_count": 42,
   "metadata": {},
   "outputs": [
    {
     "data": {
      "text/plain": [
       "0.5772727272727273"
      ]
     },
     "execution_count": 42,
     "metadata": {},
     "output_type": "execute_result"
    }
   ],
   "source": [
    "# recall score\n",
    "recall_score(y_test, preds)"
   ]
  },
  {
   "cell_type": "code",
   "execution_count": 43,
   "metadata": {},
   "outputs": [
    {
     "data": {
      "text/plain": [
       "0.6773333333333333"
      ]
     },
     "execution_count": 43,
     "metadata": {},
     "output_type": "execute_result"
    }
   ],
   "source": [
    "# f1 score\n",
    "f1_score(y_test, preds)"
   ]
  },
  {
   "cell_type": "code",
   "execution_count": 44,
   "metadata": {},
   "outputs": [
    {
     "data": {
      "text/plain": [
       "0.7777329368450863"
      ]
     },
     "execution_count": 44,
     "metadata": {},
     "output_type": "execute_result"
    }
   ],
   "source": [
    "# roc auc score\n",
    "roc_auc_score(y_test, preds)"
   ]
  },
  {
   "cell_type": "code",
   "execution_count": 45,
   "metadata": {},
   "outputs": [],
   "source": [
    "from sklearn.metrics import classification_report, confusion_matrix, ConfusionMatrixDisplay "
   ]
  },
  {
   "cell_type": "code",
   "execution_count": 46,
   "metadata": {},
   "outputs": [],
   "source": [
    "cm = confusion_matrix(y_test, preds)"
   ]
  },
  {
   "cell_type": "code",
   "execution_count": 47,
   "metadata": {
    "scrolled": true
   },
   "outputs": [
    {
     "data": {
      "image/png": "[encoded data removed]",
      "text/plain": [
       "<Figure size 432x288 with 2 Axes>"
      ]
     },
     "metadata": {
      "needs_background": "light"
     },
     "output_type": "display_data"
    }
   ],
   "source": [
    "cm_plt = ConfusionMatrixDisplay(confusion_matrix=cm,\n",
    "                               display_labels=xgb_cl.classes_)\n",
    "\n",
    "cm_plt.plot()\n",
    "plt.show()"
   ]
  },
  {
   "cell_type": "code",
   "execution_count": 48,
   "metadata": {},
   "outputs": [],
   "source": [
    "cat_cols_test = test.select_dtypes(exclude=\"number\").columns\n",
    "num_cols_test = test.select_dtypes(include=\"number\").columns"
   ]
  },
  {
   "cell_type": "code",
   "execution_count": 49,
   "metadata": {},
   "outputs": [],
   "source": [
    "#full_processor = ColumnTransformer(\n",
    "#    transformers=[\n",
    "#        (\"numeric\", numeric_pipeline, num_cols_test),\n",
    "#        (\"categorical\", categorical_pipeline, cat_cols_test),\n",
    "#    ]\n",
    "#)"
   ]
  },
  {
   "cell_type": "code",
   "execution_count": 50,
   "metadata": {},
   "outputs": [
    {
     "data": {
      "text/plain": [
       "Index(['sfid', 'dt_rif', 'juridical_form', 'dossier_type',\n",
       "       'application_source', 'credimi_industry', 'region', 'zone', 'revenues',\n",
       "       'pfn_ebitda', 'pn', 'ebitda', 'score_accounting', 'score_identity',\n",
       "       'score_trend', 'slope_ebit', 'slope_fondi', 'slope_ebitda',\n",
       "       'slope_fatturato', 'slope_liquidita',\n",
       "       'slope_al_accordato_operativo_sistema', 'slope_al_utilizzo_sistema',\n",
       "       'slope_al_sconfino_sistema', 'slope_scad_accordato_operativo_sistema',\n",
       "       'slope_scad_utilizzo_sistema', 'slope_scad_sconfino_sistema',\n",
       "       'slope_rev_accordato_operativo_sistema', 'slope_rev_utilizzo_sistema',\n",
       "       'slope_rev_sconfino_sistema', 'gender'],\n",
       "      dtype='object')"
      ]
     },
     "execution_count": 50,
     "metadata": {},
     "output_type": "execute_result"
    }
   ],
   "source": [
    "test.columns"
   ]
  },
  {
   "cell_type": "code",
   "execution_count": 51,
   "metadata": {},
   "outputs": [
    {
     "data": {
      "text/plain": [
       "(1880, 30)"
      ]
     },
     "execution_count": 51,
     "metadata": {},
     "output_type": "execute_result"
    }
   ],
   "source": [
    "test.shape"
   ]
  },
  {
   "cell_type": "code",
   "execution_count": 52,
   "metadata": {},
   "outputs": [],
   "source": [
    "X_processed_test = full_processor.transform(test.drop(['sfid'],axis=1))"
   ]
  },
  {
   "cell_type": "code",
   "execution_count": 53,
   "metadata": {},
   "outputs": [],
   "source": [
    "test_model = xgb_cl.predict(X_processed_test)"
   ]
  },
  {
   "cell_type": "code",
   "execution_count": 54,
   "metadata": {},
   "outputs": [
    {
     "data": {
      "text/plain": [
       "(1880,)"
      ]
     },
     "execution_count": 54,
     "metadata": {},
     "output_type": "execute_result"
    }
   ],
   "source": [
    "test_model.shape"
   ]
  },
  {
   "cell_type": "code",
   "execution_count": 55,
   "metadata": {},
   "outputs": [],
   "source": [
    "predictions = pd.DataFrame(test_model.T, columns=['label'])"
   ]
  },
  {
   "cell_type": "code",
   "execution_count": 56,
   "metadata": {},
   "outputs": [],
   "source": [
    "predictions['sfid'] = sfid"
   ]
  },
  {
   "cell_type": "code",
   "execution_count": 57,
   "metadata": {},
   "outputs": [
    {
     "data": {
      "text/plain": [
       "(1880, 2)"
      ]
     },
     "execution_count": 57,
     "metadata": {},
     "output_type": "execute_result"
    }
   ],
   "source": [
    "predictions.shape"
   ]
  },
  {
   "cell_type": "code",
   "execution_count": 58,
   "metadata": {},
   "outputs": [],
   "source": [
    "predictions.set_index('sfid', inplace=True)"
   ]
  },
  {
   "cell_type": "code",
   "execution_count": 59,
   "metadata": {},
   "outputs": [
    {
     "data": {
      "text/html": [
       "<div>\n",
       "<style scoped>\n",
       "    .dataframe tbody tr th:only-of-type {\n",
       "        vertical-align: middle;\n",
       "    }\n",
       "\n",
       "    .dataframe tbody tr th {\n",
       "        vertical-align: top;\n",
       "    }\n",
       "\n",
       "    .dataframe thead th {\n",
       "        text-align: right;\n",
       "    }\n",
       "</style>\n",
       "<table border=\"1\" class=\"dataframe\">\n",
       "  <thead>\n",
       "    <tr style=\"text-align: right;\">\n",
       "      <th></th>\n",
       "      <th>label</th>\n",
       "    </tr>\n",
       "    <tr>\n",
       "      <th>sfid</th>\n",
       "      <th></th>\n",
       "    </tr>\n",
       "  </thead>\n",
       "  <tbody>\n",
       "    <tr>\n",
       "      <th>a1Q2X00000XcAcwUAF</th>\n",
       "      <td>0.0</td>\n",
       "    </tr>\n",
       "    <tr>\n",
       "      <th>a1Q7R00000ZWGilUAH</th>\n",
       "      <td>0.0</td>\n",
       "    </tr>\n",
       "    <tr>\n",
       "      <th>a1Q2X00000XcXBUUA3</th>\n",
       "      <td>0.0</td>\n",
       "    </tr>\n",
       "    <tr>\n",
       "      <th>a1Q7R00000a3GGvUAM</th>\n",
       "      <td>0.0</td>\n",
       "    </tr>\n",
       "    <tr>\n",
       "      <th>a1Q7R00000ZWWU5UAP</th>\n",
       "      <td>0.0</td>\n",
       "    </tr>\n",
       "  </tbody>\n",
       "</table>\n",
       "</div>"
      ],
      "text/plain": [
       "                    label\n",
       "sfid                     \n",
       "a1Q2X00000XcAcwUAF    0.0\n",
       "a1Q7R00000ZWGilUAH    0.0\n",
       "a1Q2X00000XcXBUUA3    0.0\n",
       "a1Q7R00000a3GGvUAM    0.0\n",
       "a1Q7R00000ZWWU5UAP    0.0"
      ]
     },
     "execution_count": 59,
     "metadata": {},
     "output_type": "execute_result"
    }
   ],
   "source": [
    "predictions.head()"
   ]
  },
  {
   "cell_type": "code",
   "execution_count": 60,
   "metadata": {},
   "outputs": [],
   "source": [
    "predictions.to_csv('out_2.csv',sep='|')"
   ]
  },
  {
   "cell_type": "markdown",
   "metadata": {},
   "source": [
    "### Hyperparameter Tuning 2"
   ]
  },
  {
   "cell_type": "code",
   "execution_count": 65,
   "metadata": {},
   "outputs": [],
   "source": [
    "params={\n",
    "    'colsample_bytree': [0.5], \n",
    "    'learning_rate': [0.3], \n",
    "    'max_depth': [2], \n",
    "    'min_child_weight': [1], \n",
    "    'n_estimators': [100], \n",
    "    'subsample': [0.5], \n",
    "}"
   ]
  },
  {
   "cell_type": "code",
   "execution_count": 66,
   "metadata": {},
   "outputs": [],
   "source": [
    "from sklearn.model_selection import GridSearchCV, RandomizedSearchCV"
   ]
  },
  {
   "cell_type": "code",
   "execution_count": 67,
   "metadata": {},
   "outputs": [],
   "source": [
    "grid_cv = GridSearchCV(estimator=xgb_cl, scoring='accuracy', param_grid=params, return_train_score=True, verbose=1, cv=4)"
   ]
  },
  {
   "cell_type": "code",
   "execution_count": 68,
   "metadata": {},
   "outputs": [
    {
     "name": "stdout",
     "output_type": "stream",
     "text": [
      "Fitting 4 folds for each of 1 candidates, totalling 4 fits\n"
     ]
    },
    {
     "name": "stderr",
     "output_type": "stream",
     "text": [
      "/Users/andrewcosta/opt/anaconda3/lib/python3.8/site-packages/xgboost/sklearn.py:888: UserWarning: The use of label encoder in XGBClassifier is deprecated and will be removed in a future release. To remove this warning, do the following: 1) Pass option use_label_encoder=False when constructing XGBClassifier object; and 2) Encode your labels (y) as integers starting with 0, i.e. 0, 1, 2, ..., [num_class - 1].\n",
      "  warnings.warn(label_encoder_deprecation_msg, UserWarning)\n",
      "/Users/andrewcosta/opt/anaconda3/lib/python3.8/site-packages/sklearn/utils/validation.py:63: DataConversionWarning: A column-vector y was passed when a 1d array was expected. Please change the shape of y to (n_samples, ), for example using ravel().\n",
      "  return f(*args, **kwargs)\n"
     ]
    },
    {
     "name": "stdout",
     "output_type": "stream",
     "text": [
      "[21:31:13] WARNING: /Users/travis/build/dmlc/xgboost/src/learner.cc:1061: Starting in XGBoost 1.3.0, the default evaluation metric used with the objective 'binary:logistic' was changed from 'error' to 'logloss'. Explicitly set eval_metric if you'd like to restore the old behavior.\n"
     ]
    },
    {
     "name": "stderr",
     "output_type": "stream",
     "text": [
      "/Users/andrewcosta/opt/anaconda3/lib/python3.8/site-packages/xgboost/sklearn.py:888: UserWarning: The use of label encoder in XGBClassifier is deprecated and will be removed in a future release. To remove this warning, do the following: 1) Pass option use_label_encoder=False when constructing XGBClassifier object; and 2) Encode your labels (y) as integers starting with 0, i.e. 0, 1, 2, ..., [num_class - 1].\n",
      "  warnings.warn(label_encoder_deprecation_msg, UserWarning)\n",
      "/Users/andrewcosta/opt/anaconda3/lib/python3.8/site-packages/sklearn/utils/validation.py:63: DataConversionWarning: A column-vector y was passed when a 1d array was expected. Please change the shape of y to (n_samples, ), for example using ravel().\n",
      "  return f(*args, **kwargs)\n"
     ]
    },
    {
     "name": "stdout",
     "output_type": "stream",
     "text": [
      "[21:31:33] WARNING: /Users/travis/build/dmlc/xgboost/src/learner.cc:1061: Starting in XGBoost 1.3.0, the default evaluation metric used with the objective 'binary:logistic' was changed from 'error' to 'logloss'. Explicitly set eval_metric if you'd like to restore the old behavior.\n"
     ]
    },
    {
     "name": "stderr",
     "output_type": "stream",
     "text": [
      "/Users/andrewcosta/opt/anaconda3/lib/python3.8/site-packages/xgboost/sklearn.py:888: UserWarning: The use of label encoder in XGBClassifier is deprecated and will be removed in a future release. To remove this warning, do the following: 1) Pass option use_label_encoder=False when constructing XGBClassifier object; and 2) Encode your labels (y) as integers starting with 0, i.e. 0, 1, 2, ..., [num_class - 1].\n",
      "  warnings.warn(label_encoder_deprecation_msg, UserWarning)\n",
      "/Users/andrewcosta/opt/anaconda3/lib/python3.8/site-packages/sklearn/utils/validation.py:63: DataConversionWarning: A column-vector y was passed when a 1d array was expected. Please change the shape of y to (n_samples, ), for example using ravel().\n",
      "  return f(*args, **kwargs)\n"
     ]
    },
    {
     "name": "stdout",
     "output_type": "stream",
     "text": [
      "[21:31:53] WARNING: /Users/travis/build/dmlc/xgboost/src/learner.cc:1061: Starting in XGBoost 1.3.0, the default evaluation metric used with the objective 'binary:logistic' was changed from 'error' to 'logloss'. Explicitly set eval_metric if you'd like to restore the old behavior.\n"
     ]
    },
    {
     "name": "stderr",
     "output_type": "stream",
     "text": [
      "/Users/andrewcosta/opt/anaconda3/lib/python3.8/site-packages/xgboost/sklearn.py:888: UserWarning: The use of label encoder in XGBClassifier is deprecated and will be removed in a future release. To remove this warning, do the following: 1) Pass option use_label_encoder=False when constructing XGBClassifier object; and 2) Encode your labels (y) as integers starting with 0, i.e. 0, 1, 2, ..., [num_class - 1].\n",
      "  warnings.warn(label_encoder_deprecation_msg, UserWarning)\n",
      "/Users/andrewcosta/opt/anaconda3/lib/python3.8/site-packages/sklearn/utils/validation.py:63: DataConversionWarning: A column-vector y was passed when a 1d array was expected. Please change the shape of y to (n_samples, ), for example using ravel().\n",
      "  return f(*args, **kwargs)\n"
     ]
    },
    {
     "name": "stdout",
     "output_type": "stream",
     "text": [
      "[21:32:13] WARNING: /Users/travis/build/dmlc/xgboost/src/learner.cc:1061: Starting in XGBoost 1.3.0, the default evaluation metric used with the objective 'binary:logistic' was changed from 'error' to 'logloss'. Explicitly set eval_metric if you'd like to restore the old behavior.\n"
     ]
    },
    {
     "name": "stderr",
     "output_type": "stream",
     "text": [
      "/Users/andrewcosta/opt/anaconda3/lib/python3.8/site-packages/xgboost/sklearn.py:888: UserWarning: The use of label encoder in XGBClassifier is deprecated and will be removed in a future release. To remove this warning, do the following: 1) Pass option use_label_encoder=False when constructing XGBClassifier object; and 2) Encode your labels (y) as integers starting with 0, i.e. 0, 1, 2, ..., [num_class - 1].\n",
      "  warnings.warn(label_encoder_deprecation_msg, UserWarning)\n",
      "/Users/andrewcosta/opt/anaconda3/lib/python3.8/site-packages/sklearn/utils/validation.py:63: DataConversionWarning: A column-vector y was passed when a 1d array was expected. Please change the shape of y to (n_samples, ), for example using ravel().\n",
      "  return f(*args, **kwargs)\n"
     ]
    },
    {
     "name": "stdout",
     "output_type": "stream",
     "text": [
      "[21:32:34] WARNING: /Users/travis/build/dmlc/xgboost/src/learner.cc:1061: Starting in XGBoost 1.3.0, the default evaluation metric used with the objective 'binary:logistic' was changed from 'error' to 'logloss'. Explicitly set eval_metric if you'd like to restore the old behavior.\n"
     ]
    },
    {
     "data": {
      "text/plain": [
       "GridSearchCV(cv=4,\n",
       "             estimator=XGBClassifier(base_score=0.5, booster='gbtree',\n",
       "                                     colsample_bylevel=1, colsample_bynode=1,\n",
       "                                     colsample_bytree=1, gamma=0, gpu_id=-1,\n",
       "                                     importance_type='gain',\n",
       "                                     interaction_constraints='',\n",
       "                                     learning_rate=0.300000012,\n",
       "                                     max_delta_step=0, max_depth=6,\n",
       "                                     min_child_weight=1, missing=nan,\n",
       "                                     monotone_constraints='()',\n",
       "                                     n_estimators=100, n_jobs=4,\n",
       "                                     num_parallel_tree=1, random_state=0,\n",
       "                                     reg_alpha=0, reg_lambda=1,\n",
       "                                     scale_pos_weight=1, subsample=1,\n",
       "                                     tree_method='exact', validate_parameters=1,\n",
       "                                     verbosity=None),\n",
       "             param_grid={'colsample_bytree': [0.5], 'learning_rate': [0.3],\n",
       "                         'max_depth': [2], 'min_child_weight': [1],\n",
       "                         'n_estimators': [100], 'subsample': [0.5]},\n",
       "             return_train_score=True, scoring='accuracy', verbose=1)"
      ]
     },
     "execution_count": 68,
     "metadata": {},
     "output_type": "execute_result"
    }
   ],
   "source": [
    "grid_cv.fit(X_train, y_train)"
   ]
  },
  {
   "cell_type": "code",
   "execution_count": 69,
   "metadata": {},
   "outputs": [],
   "source": [
    "train_cv = grid_cv.predict(X_train)\n",
    "test_cv = grid_cv.predict(X_test)"
   ]
  },
  {
   "cell_type": "code",
   "execution_count": 70,
   "metadata": {},
   "outputs": [],
   "source": [
    "#confusion matrices\n",
    "cfm_train = confusion_matrix(y_train, train_cv)\n",
    "cfm_test = confusion_matrix(y_test, test_cv)"
   ]
  },
  {
   "cell_type": "code",
   "execution_count": 71,
   "metadata": {},
   "outputs": [
    {
     "data": {
      "text/plain": [
       "array([[5055,   67],\n",
       "       [ 342,  552]])"
      ]
     },
     "execution_count": 71,
     "metadata": {},
     "output_type": "execute_result"
    }
   ],
   "source": [
    "cfm_train"
   ]
  },
  {
   "cell_type": "code",
   "execution_count": 98,
   "metadata": {},
   "outputs": [
    {
     "data": {
      "image/png": "[encoded data removed]",
      "text/plain": [
       "<Figure size 432x288 with 2 Axes>"
      ]
     },
     "metadata": {
      "needs_background": "light"
     },
     "output_type": "display_data"
    }
   ],
   "source": [
    "ConfusionMatrixDisplay(confusion_matrix=cfm_test,\n",
    "                               display_labels=xgb_cl.classes_)\n",
    "\n",
    "cm_plt.plot()\n",
    "plt.show()"
   ]
  },
  {
   "cell_type": "code",
   "execution_count": 73,
   "metadata": {},
   "outputs": [],
   "source": [
    "test_2 = grid_cv.predict(X_processed_test)"
   ]
  },
  {
   "cell_type": "markdown",
   "metadata": {},
   "source": [
    "#### Output 2"
   ]
  },
  {
   "cell_type": "code",
   "execution_count": 74,
   "metadata": {},
   "outputs": [],
   "source": [
    "predictions2 = pd.DataFrame(test_2, columns=['label'])"
   ]
  },
  {
   "cell_type": "code",
   "execution_count": 75,
   "metadata": {},
   "outputs": [],
   "source": [
    "predictions2['sfid'] = sfid"
   ]
  },
  {
   "cell_type": "code",
   "execution_count": 76,
   "metadata": {},
   "outputs": [
    {
     "data": {
      "text/plain": [
       "(1880, 2)"
      ]
     },
     "execution_count": 76,
     "metadata": {},
     "output_type": "execute_result"
    }
   ],
   "source": [
    "predictions2.shape"
   ]
  },
  {
   "cell_type": "code",
   "execution_count": 78,
   "metadata": {},
   "outputs": [],
   "source": [
    "predictions2.set_index('sfid', inplace=True)"
   ]
  },
  {
   "cell_type": "code",
   "execution_count": 79,
   "metadata": {},
   "outputs": [
    {
     "data": {
      "text/html": [
       "<div>\n",
       "<style scoped>\n",
       "    .dataframe tbody tr th:only-of-type {\n",
       "        vertical-align: middle;\n",
       "    }\n",
       "\n",
       "    .dataframe tbody tr th {\n",
       "        vertical-align: top;\n",
       "    }\n",
       "\n",
       "    .dataframe thead th {\n",
       "        text-align: right;\n",
       "    }\n",
       "</style>\n",
       "<table border=\"1\" class=\"dataframe\">\n",
       "  <thead>\n",
       "    <tr style=\"text-align: right;\">\n",
       "      <th></th>\n",
       "      <th>label</th>\n",
       "    </tr>\n",
       "    <tr>\n",
       "      <th>sfid</th>\n",
       "      <th></th>\n",
       "    </tr>\n",
       "  </thead>\n",
       "  <tbody>\n",
       "    <tr>\n",
       "      <th>a1Q2X00000XcAcwUAF</th>\n",
       "      <td>0.0</td>\n",
       "    </tr>\n",
       "    <tr>\n",
       "      <th>a1Q7R00000ZWGilUAH</th>\n",
       "      <td>0.0</td>\n",
       "    </tr>\n",
       "    <tr>\n",
       "      <th>a1Q2X00000XcXBUUA3</th>\n",
       "      <td>0.0</td>\n",
       "    </tr>\n",
       "    <tr>\n",
       "      <th>a1Q7R00000a3GGvUAM</th>\n",
       "      <td>0.0</td>\n",
       "    </tr>\n",
       "    <tr>\n",
       "      <th>a1Q7R00000ZWWU5UAP</th>\n",
       "      <td>0.0</td>\n",
       "    </tr>\n",
       "  </tbody>\n",
       "</table>\n",
       "</div>"
      ],
      "text/plain": [
       "                    label\n",
       "sfid                     \n",
       "a1Q2X00000XcAcwUAF    0.0\n",
       "a1Q7R00000ZWGilUAH    0.0\n",
       "a1Q2X00000XcXBUUA3    0.0\n",
       "a1Q7R00000a3GGvUAM    0.0\n",
       "a1Q7R00000ZWWU5UAP    0.0"
      ]
     },
     "execution_count": 79,
     "metadata": {},
     "output_type": "execute_result"
    }
   ],
   "source": [
    "predictions2.head()"
   ]
  },
  {
   "cell_type": "code",
   "execution_count": null,
   "metadata": {},
   "outputs": [],
   "source": [
    "predictions2.to_csv('out_4.csv',sep='|')"
   ]
  },
  {
   "cell_type": "markdown",
   "metadata": {},
   "source": [
    "### Hyperparameter Tuning - Randomized Search"
   ]
  },
  {
   "cell_type": "code",
   "execution_count": 80,
   "metadata": {},
   "outputs": [],
   "source": [
    "params={\n",
    " \"learning_rate\"    : [0.05, 0.10, 0.15, 0.20, 0.25, 0.30 ] ,\n",
    " \"max_depth\"        : [ 3, 4, 5, 6, 8, 10, 12, 15],\n",
    " \"min_child_weight\" : [ 1, 3, 5, 7 ],\n",
    " \"gamma\"            : [ 0.0, 0.1, 0.2 , 0.3, 0.4 ],\n",
    " \"colsample_bytree\" : [ 0.3, 0.4, 0.5 , 0.7 ]\n",
    "}"
   ]
  },
  {
   "cell_type": "code",
   "execution_count": 81,
   "metadata": {},
   "outputs": [],
   "source": [
    "random_search=RandomizedSearchCV(xgb_cl,param_distributions=params,n_iter=5,scoring='roc_auc',n_jobs=-1,cv=5,verbose=3)"
   ]
  },
  {
   "cell_type": "code",
   "execution_count": 82,
   "metadata": {},
   "outputs": [
    {
     "name": "stdout",
     "output_type": "stream",
     "text": [
      "Fitting 5 folds for each of 5 candidates, totalling 25 fits\n"
     ]
    },
    {
     "name": "stderr",
     "output_type": "stream",
     "text": [
      "/Users/andrewcosta/opt/anaconda3/lib/python3.8/site-packages/xgboost/sklearn.py:888: UserWarning: The use of label encoder in XGBClassifier is deprecated and will be removed in a future release. To remove this warning, do the following: 1) Pass option use_label_encoder=False when constructing XGBClassifier object; and 2) Encode your labels (y) as integers starting with 0, i.e. 0, 1, 2, ..., [num_class - 1].\n",
      "  warnings.warn(label_encoder_deprecation_msg, UserWarning)\n",
      "/Users/andrewcosta/opt/anaconda3/lib/python3.8/site-packages/sklearn/utils/validation.py:63: DataConversionWarning: A column-vector y was passed when a 1d array was expected. Please change the shape of y to (n_samples, ), for example using ravel().\n",
      "  return f(*args, **kwargs)\n"
     ]
    },
    {
     "name": "stdout",
     "output_type": "stream",
     "text": [
      "[21:42:42] WARNING: /Users/travis/build/dmlc/xgboost/src/learner.cc:1061: Starting in XGBoost 1.3.0, the default evaluation metric used with the objective 'binary:logistic' was changed from 'error' to 'logloss'. Explicitly set eval_metric if you'd like to restore the old behavior.\n"
     ]
    },
    {
     "data": {
      "text/plain": [
       "RandomizedSearchCV(cv=5,\n",
       "                   estimator=XGBClassifier(base_score=0.5, booster='gbtree',\n",
       "                                           colsample_bylevel=1,\n",
       "                                           colsample_bynode=1,\n",
       "                                           colsample_bytree=1, gamma=0,\n",
       "                                           gpu_id=-1, importance_type='gain',\n",
       "                                           interaction_constraints='',\n",
       "                                           learning_rate=0.300000012,\n",
       "                                           max_delta_step=0, max_depth=6,\n",
       "                                           min_child_weight=1, missing=nan,\n",
       "                                           monotone_constraints='()',\n",
       "                                           n_estimators=100, n_jobs=4,\n",
       "                                           num_pa...\n",
       "                                           reg_alpha=0, reg_lambda=1,\n",
       "                                           scale_pos_weight=1, subsample=1,\n",
       "                                           tree_method='exact',\n",
       "                                           validate_parameters=1,\n",
       "                                           verbosity=None),\n",
       "                   n_iter=5, n_jobs=-1,\n",
       "                   param_distributions={'colsample_bytree': [0.3, 0.4, 0.5,\n",
       "                                                             0.7],\n",
       "                                        'gamma': [0.0, 0.1, 0.2, 0.3, 0.4],\n",
       "                                        'learning_rate': [0.05, 0.1, 0.15, 0.2,\n",
       "                                                          0.25, 0.3],\n",
       "                                        'max_depth': [3, 4, 5, 6, 8, 10, 12,\n",
       "                                                      15],\n",
       "                                        'min_child_weight': [1, 3, 5, 7]},\n",
       "                   scoring='roc_auc', verbose=3)"
      ]
     },
     "execution_count": 82,
     "metadata": {},
     "output_type": "execute_result"
    }
   ],
   "source": [
    "random_search.fit(X_train,y_train)"
   ]
  },
  {
   "cell_type": "code",
   "execution_count": 83,
   "metadata": {},
   "outputs": [],
   "source": [
    "preds3 = random_search.predict(X_test)"
   ]
  },
  {
   "cell_type": "code",
   "execution_count": 84,
   "metadata": {},
   "outputs": [
    {
     "data": {
      "text/plain": [
       "0.9228723404255319"
      ]
     },
     "execution_count": 84,
     "metadata": {},
     "output_type": "execute_result"
    }
   ],
   "source": [
    "accuracy_score(y_test, preds3)"
   ]
  },
  {
   "cell_type": "code",
   "execution_count": 97,
   "metadata": {
    "scrolled": true
   },
   "outputs": [
    {
     "data": {
      "image/png": "[encoded data removed]",
      "text/plain": [
       "<Figure size 432x288 with 2 Axes>"
      ]
     },
     "metadata": {
      "needs_background": "light"
     },
     "output_type": "display_data"
    }
   ],
   "source": [
    "cfm_test3 = confusion_matrix(y_test, preds3)\n",
    "\n",
    "ConfusionMatrixDisplay(confusion_matrix=cfm_test3,\n",
    "                               display_labels=xgb_cl.classes_)\n",
    "\n",
    "cm_plt.plot()\n",
    "plt.show()"
   ]
  },
  {
   "cell_type": "markdown",
   "metadata": {},
   "source": [
    "#### Output 3"
   ]
  },
  {
   "cell_type": "code",
   "execution_count": 86,
   "metadata": {},
   "outputs": [],
   "source": [
    "preds3_test = random_search.predict(X_processed_test)"
   ]
  },
  {
   "cell_type": "code",
   "execution_count": 88,
   "metadata": {},
   "outputs": [],
   "source": [
    "predictions3 = pd.DataFrame(preds3_test, columns=['label'])"
   ]
  },
  {
   "cell_type": "code",
   "execution_count": 89,
   "metadata": {},
   "outputs": [],
   "source": [
    "predictions3['sfid'] = sfid"
   ]
  },
  {
   "cell_type": "code",
   "execution_count": 90,
   "metadata": {},
   "outputs": [],
   "source": [
    "predictions3.set_index('sfid', inplace=True)"
   ]
  },
  {
   "cell_type": "code",
   "execution_count": 91,
   "metadata": {},
   "outputs": [],
   "source": [
    "predictions3.to_csv('out_5.csv',sep='|')"
   ]
  },
  {
   "cell_type": "markdown",
   "metadata": {},
   "source": [
    "### Conclusion"
   ]
  },
  {
   "cell_type": "markdown",
   "metadata": {},
   "source": [
    "As we can see, the hyperparameter tuning methods -- specifically Grid Search and Randomized Search -- selected parameters that did not improve the overall model performance."
   ]
  },
  {
   "cell_type": "code",
   "execution_count": null,
   "metadata": {},
   "outputs": [],
   "source": []
  }
 ],
 "metadata": {
  "kernelspec": {
   "display_name": "Python 3 (ipykernel)",
   "language": "python",
   "name": "python3"
  },
  "language_info": {
   "codemirror_mode": {
    "name": "ipython",
    "version": 3
   },
   "file_extension": ".py",
   "mimetype": "text/x-python",
   "name": "python",
   "nbconvert_exporter": "python",
   "pygments_lexer": "ipython3",
   "version": "3.9.12"
  }
 },
 "nbformat": 4,
 "nbformat_minor": 2
}
